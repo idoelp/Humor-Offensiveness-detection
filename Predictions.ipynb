{
 "cells": [
  {
   "cell_type": "markdown",
   "metadata": {},
   "source": [
    "#### Functions"
   ]
  },
  {
   "cell_type": "code",
   "execution_count": 1,
   "metadata": {
    "collapsed": true
   },
   "outputs": [],
   "source": [
    "def clean_text(text):\n",
    "    text = text.lower()\n",
    "    return re.sub('[^a-zA-Z]', ' ', text)\n",
    "  \n",
    "def clean_data(df):\n",
    "    df.text = pd.DataFrame(df.text.apply(clean_text))\n",
    "    return df\n",
    "\n",
    "def feature_eng1(df,txt):\n",
    "    df.insert(0,'len',txt.text.str.split().str.len(),True)\n",
    "\n",
    "def to_tfidf(df,model):\n",
    "    return pd.DataFrame(model.transform(df).todense(), columns = model.get_feature_names())\n",
    "\n",
    "def predict(dat):\n",
    "    df = clean_data(dat)\n",
    "    df = to_tfidf(df.text,cv_model)    \n",
    "    feature_eng1(df,dat)        \n",
    "    dat['is_humor'] = task1_model.predict(df)\n",
    "    dat['humor_rating'] = task2_model.predict(df)\n",
    "    df['humor_rating'] = dat['humor_rating']\n",
    "    dat['humor_cont'] = task3_model.predict(df)"
   ]
  },
  {
   "cell_type": "markdown",
   "metadata": {},
   "source": [
    "#### Libraries"
   ]
  },
  {
   "cell_type": "code",
   "execution_count": 2,
   "metadata": {},
   "outputs": [
    {
     "name": "stderr",
     "output_type": "stream",
     "text": [
      "/Users/scepeda/anaconda2/envs/tensorflow19py36/lib/python3.6/site-packages/sklearn/base.py:334: UserWarning: Trying to unpickle estimator LabelBinarizer from version 0.23.2 when using version 0.23.1. This might lead to breaking code or invalid results. Use at your own risk.\n",
      "  UserWarning)\n",
      "/Users/scepeda/anaconda2/envs/tensorflow19py36/lib/python3.6/site-packages/sklearn/base.py:334: UserWarning: Trying to unpickle estimator RidgeClassifier from version 0.23.2 when using version 0.23.1. This might lead to breaking code or invalid results. Use at your own risk.\n",
      "  UserWarning)\n",
      "/Users/scepeda/anaconda2/envs/tensorflow19py36/lib/python3.6/site-packages/sklearn/base.py:334: UserWarning: Trying to unpickle estimator BayesianRidge from version 0.23.2 when using version 0.23.1. This might lead to breaking code or invalid results. Use at your own risk.\n",
      "  UserWarning)\n",
      "/Users/scepeda/anaconda2/envs/tensorflow19py36/lib/python3.6/site-packages/sklearn/base.py:334: UserWarning: Trying to unpickle estimator DecisionTreeClassifier from version 0.23.2 when using version 0.23.1. This might lead to breaking code or invalid results. Use at your own risk.\n",
      "  UserWarning)\n",
      "/Users/scepeda/anaconda2/envs/tensorflow19py36/lib/python3.6/site-packages/sklearn/base.py:334: UserWarning: Trying to unpickle estimator RandomForestClassifier from version 0.23.2 when using version 0.23.1. This might lead to breaking code or invalid results. Use at your own risk.\n",
      "  UserWarning)\n"
     ]
    }
   ],
   "source": [
    "import pandas as pd\n",
    "import numpy as np\n",
    "import re, string\n",
    "import pickle\n",
    "\n",
    "#  Loading the models\n",
    "cv_model = pickle.load(open('cv_model.sav', 'rb'))\n",
    "task1_model = pickle.load(open('Classif_Model-1.pkl', 'rb'))\n",
    "task2_model = pickle.load(open('Regres_Model-1.pkl', 'rb'))\n",
    "task3_model = pickle.load(open('HC_CLF2.sav', 'rb'))"
   ]
  },
  {
   "cell_type": "markdown",
   "metadata": {},
   "source": [
    "#### Evaluate Test Data"
   ]
  },
  {
   "cell_type": "code",
   "execution_count": 3,
   "metadata": {},
   "outputs": [
    {
     "data": {
      "text/html": [
       "<div>\n",
       "<style scoped>\n",
       "    .dataframe tbody tr th:only-of-type {\n",
       "        vertical-align: middle;\n",
       "    }\n",
       "\n",
       "    .dataframe tbody tr th {\n",
       "        vertical-align: top;\n",
       "    }\n",
       "\n",
       "    .dataframe thead th {\n",
       "        text-align: right;\n",
       "    }\n",
       "</style>\n",
       "<table border=\"1\" class=\"dataframe\">\n",
       "  <thead>\n",
       "    <tr style=\"text-align: right;\">\n",
       "      <th></th>\n",
       "      <th>id</th>\n",
       "      <th>text</th>\n",
       "      <th>is_humor</th>\n",
       "      <th>humor_rating</th>\n",
       "      <th>humor_cont</th>\n",
       "    </tr>\n",
       "  </thead>\n",
       "  <tbody>\n",
       "    <tr>\n",
       "      <th>0</th>\n",
       "      <td>9001</td>\n",
       "      <td>finding out your ex got fat is like finding   ...</td>\n",
       "      <td>0</td>\n",
       "      <td>0.875147</td>\n",
       "      <td>0</td>\n",
       "    </tr>\n",
       "    <tr>\n",
       "      <th>1</th>\n",
       "      <td>9002</td>\n",
       "      <td>for brockmann  stereotypes imperil national se...</td>\n",
       "      <td>0</td>\n",
       "      <td>0.384164</td>\n",
       "      <td>0</td>\n",
       "    </tr>\n",
       "    <tr>\n",
       "      <th>2</th>\n",
       "      <td>9003</td>\n",
       "      <td>a girl runs up to her mother with a pile of cr...</td>\n",
       "      <td>0</td>\n",
       "      <td>1.298228</td>\n",
       "      <td>0</td>\n",
       "    </tr>\n",
       "    <tr>\n",
       "      <th>3</th>\n",
       "      <td>9004</td>\n",
       "      <td>gotta wonder if baseball still would ve been c...</td>\n",
       "      <td>0</td>\n",
       "      <td>1.300967</td>\n",
       "      <td>0</td>\n",
       "    </tr>\n",
       "    <tr>\n",
       "      <th>4</th>\n",
       "      <td>9005</td>\n",
       "      <td>when you re dreading getting in the shower cuz...</td>\n",
       "      <td>0</td>\n",
       "      <td>0.961979</td>\n",
       "      <td>0</td>\n",
       "    </tr>\n",
       "    <tr>\n",
       "      <th>...</th>\n",
       "      <td>...</td>\n",
       "      <td>...</td>\n",
       "      <td>...</td>\n",
       "      <td>...</td>\n",
       "      <td>...</td>\n",
       "    </tr>\n",
       "    <tr>\n",
       "      <th>995</th>\n",
       "      <td>9996</td>\n",
       "      <td>what do you call a black man on the moon  an a...</td>\n",
       "      <td>0</td>\n",
       "      <td>0.707483</td>\n",
       "      <td>0</td>\n",
       "    </tr>\n",
       "    <tr>\n",
       "      <th>996</th>\n",
       "      <td>9997</td>\n",
       "      <td>when im picking someone up and they ask how lo...</td>\n",
       "      <td>0</td>\n",
       "      <td>1.067091</td>\n",
       "      <td>0</td>\n",
       "    </tr>\n",
       "    <tr>\n",
       "      <th>997</th>\n",
       "      <td>9998</td>\n",
       "      <td>a black lesbian  an obese white neck beard  an...</td>\n",
       "      <td>0</td>\n",
       "      <td>1.087748</td>\n",
       "      <td>0</td>\n",
       "    </tr>\n",
       "    <tr>\n",
       "      <th>998</th>\n",
       "      <td>9999</td>\n",
       "      <td>and i recognize the need to use all of my plat...</td>\n",
       "      <td>0</td>\n",
       "      <td>1.265905</td>\n",
       "      <td>0</td>\n",
       "    </tr>\n",
       "    <tr>\n",
       "      <th>999</th>\n",
       "      <td>10000</td>\n",
       "      <td>get married so you can argue about fun things ...</td>\n",
       "      <td>0</td>\n",
       "      <td>1.535947</td>\n",
       "      <td>0</td>\n",
       "    </tr>\n",
       "  </tbody>\n",
       "</table>\n",
       "<p>1000 rows × 5 columns</p>\n",
       "</div>"
      ],
      "text/plain": [
       "        id                                               text  is_humor  \\\n",
       "0     9001  finding out your ex got fat is like finding   ...         0   \n",
       "1     9002  for brockmann  stereotypes imperil national se...         0   \n",
       "2     9003  a girl runs up to her mother with a pile of cr...         0   \n",
       "3     9004  gotta wonder if baseball still would ve been c...         0   \n",
       "4     9005  when you re dreading getting in the shower cuz...         0   \n",
       "..     ...                                                ...       ...   \n",
       "995   9996  what do you call a black man on the moon  an a...         0   \n",
       "996   9997  when im picking someone up and they ask how lo...         0   \n",
       "997   9998  a black lesbian  an obese white neck beard  an...         0   \n",
       "998   9999  and i recognize the need to use all of my plat...         0   \n",
       "999  10000  get married so you can argue about fun things ...         0   \n",
       "\n",
       "     humor_rating  humor_cont  \n",
       "0        0.875147           0  \n",
       "1        0.384164           0  \n",
       "2        1.298228           0  \n",
       "3        1.300967           0  \n",
       "4        0.961979           0  \n",
       "..            ...         ...  \n",
       "995      0.707483           0  \n",
       "996      1.067091           0  \n",
       "997      1.087748           0  \n",
       "998      1.265905           0  \n",
       "999      1.535947           0  \n",
       "\n",
       "[1000 rows x 5 columns]"
      ]
     },
     "execution_count": 3,
     "metadata": {},
     "output_type": "execute_result"
    }
   ],
   "source": [
    "path = 'public_test.csv'\n",
    "df = pd.read_csv(path, sep = ',', encoding=\"UTF-8\")\n",
    "\n",
    "predict(df)\n",
    "df"
   ]
  },
  {
   "cell_type": "markdown",
   "metadata": {},
   "source": [
    "#### Evaluate new data"
   ]
  },
  {
   "cell_type": "code",
   "execution_count": 4,
   "metadata": {},
   "outputs": [
    {
     "data": {
      "text/html": [
       "<div>\n",
       "<style scoped>\n",
       "    .dataframe tbody tr th:only-of-type {\n",
       "        vertical-align: middle;\n",
       "    }\n",
       "\n",
       "    .dataframe tbody tr th {\n",
       "        vertical-align: top;\n",
       "    }\n",
       "\n",
       "    .dataframe thead th {\n",
       "        text-align: right;\n",
       "    }\n",
       "</style>\n",
       "<table border=\"1\" class=\"dataframe\">\n",
       "  <thead>\n",
       "    <tr style=\"text-align: right;\">\n",
       "      <th></th>\n",
       "      <th>text</th>\n",
       "      <th>is_humor</th>\n",
       "      <th>humor_rating</th>\n",
       "      <th>humor_cont</th>\n",
       "    </tr>\n",
       "  </thead>\n",
       "  <tbody>\n",
       "    <tr>\n",
       "      <th>0</th>\n",
       "      <td>here you can write your oun sentens</td>\n",
       "      <td>0</td>\n",
       "      <td>-0.191700</td>\n",
       "      <td>0</td>\n",
       "    </tr>\n",
       "    <tr>\n",
       "      <th>1</th>\n",
       "      <td>even more than one</td>\n",
       "      <td>1</td>\n",
       "      <td>2.165213</td>\n",
       "      <td>0</td>\n",
       "    </tr>\n",
       "    <tr>\n",
       "      <th>2</th>\n",
       "      <td>make you oun jokes and evaluate how funny they...</td>\n",
       "      <td>0</td>\n",
       "      <td>0.884400</td>\n",
       "      <td>0</td>\n",
       "    </tr>\n",
       "  </tbody>\n",
       "</table>\n",
       "</div>"
      ],
      "text/plain": [
       "                                                text  is_humor  humor_rating  \\\n",
       "0                here you can write your oun sentens         0     -0.191700   \n",
       "1                              even more than one            1      2.165213   \n",
       "2  make you oun jokes and evaluate how funny they...         0      0.884400   \n",
       "\n",
       "   humor_cont  \n",
       "0           0  \n",
       "1           0  \n",
       "2           0  "
      ]
     },
     "execution_count": 4,
     "metadata": {},
     "output_type": "execute_result"
    }
   ],
   "source": [
    "my_text = pd.DataFrame(['here you can write your oun sentens',\n",
    "                        'even more than one ;)',\n",
    "                        'make you oun jokes and evaluate how funny they are?'],columns=['text'])\n",
    "predict(my_text)\n",
    "my_text"
   ]
  },
  {
   "cell_type": "code",
   "execution_count": null,
   "metadata": {},
   "outputs": [],
   "source": []
  },
  {
   "cell_type": "code",
   "execution_count": null,
   "metadata": {
    "collapsed": true
   },
   "outputs": [],
   "source": []
  }
 ],
 "metadata": {
  "hide_input": false,
  "kernelspec": {
   "display_name": "Python 3.6 (tensorflow 1.9)",
   "language": "python",
   "name": "tensorflow19py36"
  },
  "language_info": {
   "codemirror_mode": {
    "name": "ipython",
    "version": 3
   },
   "file_extension": ".py",
   "mimetype": "text/x-python",
   "name": "python",
   "nbconvert_exporter": "python",
   "pygments_lexer": "ipython3",
   "version": "3.6.10"
  },
  "toc": {
   "base_numbering": 1,
   "nav_menu": {},
   "number_sections": true,
   "sideBar": true,
   "skip_h1_title": false,
   "title_cell": "Table of Contents",
   "title_sidebar": "Contents",
   "toc_cell": false,
   "toc_position": {},
   "toc_section_display": true,
   "toc_window_display": false
  },
  "varInspector": {
   "cols": {
    "lenName": 16,
    "lenType": 16,
    "lenVar": 40
   },
   "kernels_config": {
    "python": {
     "delete_cmd_postfix": "",
     "delete_cmd_prefix": "del ",
     "library": "var_list.py",
     "varRefreshCmd": "print(var_dic_list())"
    },
    "r": {
     "delete_cmd_postfix": ") ",
     "delete_cmd_prefix": "rm(",
     "library": "var_list.r",
     "varRefreshCmd": "cat(var_dic_list()) "
    }
   },
   "types_to_exclude": [
    "module",
    "function",
    "builtin_function_or_method",
    "instance",
    "_Feature"
   ],
   "window_display": false
  }
 },
 "nbformat": 4,
 "nbformat_minor": 2
}
